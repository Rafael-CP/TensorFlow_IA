{
 "cells": [
  {
   "cell_type": "code",
   "execution_count": 109,
   "metadata": {},
   "outputs": [],
   "source": [
    "import pandas as pd"
   ]
  },
  {
   "cell_type": "code",
   "execution_count": 110,
   "metadata": {},
   "outputs": [],
   "source": [
    "base = pd.read_csv('house-prices.csv')"
   ]
  },
  {
   "cell_type": "code",
   "execution_count": 111,
   "metadata": {},
   "outputs": [
    {
     "data": {
      "text/html": [
       "<div>\n",
       "<style scoped>\n",
       "    .dataframe tbody tr th:only-of-type {\n",
       "        vertical-align: middle;\n",
       "    }\n",
       "\n",
       "    .dataframe tbody tr th {\n",
       "        vertical-align: top;\n",
       "    }\n",
       "\n",
       "    .dataframe thead th {\n",
       "        text-align: right;\n",
       "    }\n",
       "</style>\n",
       "<table border=\"1\" class=\"dataframe\">\n",
       "  <thead>\n",
       "    <tr style=\"text-align: right;\">\n",
       "      <th></th>\n",
       "      <th>id</th>\n",
       "      <th>date</th>\n",
       "      <th>price</th>\n",
       "      <th>bedrooms</th>\n",
       "      <th>bathrooms</th>\n",
       "      <th>sqft_living</th>\n",
       "      <th>sqft_lot</th>\n",
       "      <th>floors</th>\n",
       "      <th>waterfront</th>\n",
       "      <th>view</th>\n",
       "      <th>...</th>\n",
       "      <th>grade</th>\n",
       "      <th>sqft_above</th>\n",
       "      <th>sqft_basement</th>\n",
       "      <th>yr_built</th>\n",
       "      <th>yr_renovated</th>\n",
       "      <th>zipcode</th>\n",
       "      <th>lat</th>\n",
       "      <th>long</th>\n",
       "      <th>sqft_living15</th>\n",
       "      <th>sqft_lot15</th>\n",
       "    </tr>\n",
       "  </thead>\n",
       "  <tbody>\n",
       "    <tr>\n",
       "      <th>0</th>\n",
       "      <td>7129300520</td>\n",
       "      <td>20141013T000000</td>\n",
       "      <td>221900.0</td>\n",
       "      <td>3</td>\n",
       "      <td>1.00</td>\n",
       "      <td>1180</td>\n",
       "      <td>5650</td>\n",
       "      <td>1.0</td>\n",
       "      <td>0</td>\n",
       "      <td>0</td>\n",
       "      <td>...</td>\n",
       "      <td>7</td>\n",
       "      <td>1180</td>\n",
       "      <td>0</td>\n",
       "      <td>1955</td>\n",
       "      <td>0</td>\n",
       "      <td>98178</td>\n",
       "      <td>47.5112</td>\n",
       "      <td>-122.257</td>\n",
       "      <td>1340</td>\n",
       "      <td>5650</td>\n",
       "    </tr>\n",
       "    <tr>\n",
       "      <th>1</th>\n",
       "      <td>6414100192</td>\n",
       "      <td>20141209T000000</td>\n",
       "      <td>538000.0</td>\n",
       "      <td>3</td>\n",
       "      <td>2.25</td>\n",
       "      <td>2570</td>\n",
       "      <td>7242</td>\n",
       "      <td>2.0</td>\n",
       "      <td>0</td>\n",
       "      <td>0</td>\n",
       "      <td>...</td>\n",
       "      <td>7</td>\n",
       "      <td>2170</td>\n",
       "      <td>400</td>\n",
       "      <td>1951</td>\n",
       "      <td>1991</td>\n",
       "      <td>98125</td>\n",
       "      <td>47.7210</td>\n",
       "      <td>-122.319</td>\n",
       "      <td>1690</td>\n",
       "      <td>7639</td>\n",
       "    </tr>\n",
       "    <tr>\n",
       "      <th>2</th>\n",
       "      <td>5631500400</td>\n",
       "      <td>20150225T000000</td>\n",
       "      <td>180000.0</td>\n",
       "      <td>2</td>\n",
       "      <td>1.00</td>\n",
       "      <td>770</td>\n",
       "      <td>10000</td>\n",
       "      <td>1.0</td>\n",
       "      <td>0</td>\n",
       "      <td>0</td>\n",
       "      <td>...</td>\n",
       "      <td>6</td>\n",
       "      <td>770</td>\n",
       "      <td>0</td>\n",
       "      <td>1933</td>\n",
       "      <td>0</td>\n",
       "      <td>98028</td>\n",
       "      <td>47.7379</td>\n",
       "      <td>-122.233</td>\n",
       "      <td>2720</td>\n",
       "      <td>8062</td>\n",
       "    </tr>\n",
       "    <tr>\n",
       "      <th>3</th>\n",
       "      <td>2487200875</td>\n",
       "      <td>20141209T000000</td>\n",
       "      <td>604000.0</td>\n",
       "      <td>4</td>\n",
       "      <td>3.00</td>\n",
       "      <td>1960</td>\n",
       "      <td>5000</td>\n",
       "      <td>1.0</td>\n",
       "      <td>0</td>\n",
       "      <td>0</td>\n",
       "      <td>...</td>\n",
       "      <td>7</td>\n",
       "      <td>1050</td>\n",
       "      <td>910</td>\n",
       "      <td>1965</td>\n",
       "      <td>0</td>\n",
       "      <td>98136</td>\n",
       "      <td>47.5208</td>\n",
       "      <td>-122.393</td>\n",
       "      <td>1360</td>\n",
       "      <td>5000</td>\n",
       "    </tr>\n",
       "    <tr>\n",
       "      <th>4</th>\n",
       "      <td>1954400510</td>\n",
       "      <td>20150218T000000</td>\n",
       "      <td>510000.0</td>\n",
       "      <td>3</td>\n",
       "      <td>2.00</td>\n",
       "      <td>1680</td>\n",
       "      <td>8080</td>\n",
       "      <td>1.0</td>\n",
       "      <td>0</td>\n",
       "      <td>0</td>\n",
       "      <td>...</td>\n",
       "      <td>8</td>\n",
       "      <td>1680</td>\n",
       "      <td>0</td>\n",
       "      <td>1987</td>\n",
       "      <td>0</td>\n",
       "      <td>98074</td>\n",
       "      <td>47.6168</td>\n",
       "      <td>-122.045</td>\n",
       "      <td>1800</td>\n",
       "      <td>7503</td>\n",
       "    </tr>\n",
       "  </tbody>\n",
       "</table>\n",
       "<p>5 rows × 21 columns</p>\n",
       "</div>"
      ],
      "text/plain": [
       "           id             date     price  bedrooms  bathrooms  sqft_living  \\\n",
       "0  7129300520  20141013T000000  221900.0         3       1.00         1180   \n",
       "1  6414100192  20141209T000000  538000.0         3       2.25         2570   \n",
       "2  5631500400  20150225T000000  180000.0         2       1.00          770   \n",
       "3  2487200875  20141209T000000  604000.0         4       3.00         1960   \n",
       "4  1954400510  20150218T000000  510000.0         3       2.00         1680   \n",
       "\n",
       "   sqft_lot  floors  waterfront  view  ...  grade  sqft_above  sqft_basement  \\\n",
       "0      5650     1.0           0     0  ...      7        1180              0   \n",
       "1      7242     2.0           0     0  ...      7        2170            400   \n",
       "2     10000     1.0           0     0  ...      6         770              0   \n",
       "3      5000     1.0           0     0  ...      7        1050            910   \n",
       "4      8080     1.0           0     0  ...      8        1680              0   \n",
       "\n",
       "   yr_built  yr_renovated  zipcode      lat     long  sqft_living15  \\\n",
       "0      1955             0    98178  47.5112 -122.257           1340   \n",
       "1      1951          1991    98125  47.7210 -122.319           1690   \n",
       "2      1933             0    98028  47.7379 -122.233           2720   \n",
       "3      1965             0    98136  47.5208 -122.393           1360   \n",
       "4      1987             0    98074  47.6168 -122.045           1800   \n",
       "\n",
       "   sqft_lot15  \n",
       "0        5650  \n",
       "1        7639  \n",
       "2        8062  \n",
       "3        5000  \n",
       "4        7503  \n",
       "\n",
       "[5 rows x 21 columns]"
      ]
     },
     "execution_count": 111,
     "metadata": {},
     "output_type": "execute_result"
    }
   ],
   "source": [
    "base.head()"
   ]
  },
  {
   "cell_type": "code",
   "execution_count": 112,
   "metadata": {},
   "outputs": [],
   "source": [
    "x = base.iloc[:, 5:6].values\n",
    "y = base.iloc[:, 2:3].values"
   ]
  },
  {
   "cell_type": "code",
   "execution_count": 113,
   "metadata": {},
   "outputs": [
    {
     "data": {
      "text/plain": [
       "array([[1180],\n",
       "       [2570],\n",
       "       [ 770],\n",
       "       ...,\n",
       "       [1020],\n",
       "       [1600],\n",
       "       [1020]], dtype=int64)"
      ]
     },
     "execution_count": 113,
     "metadata": {},
     "output_type": "execute_result"
    }
   ],
   "source": [
    "x"
   ]
  },
  {
   "cell_type": "code",
   "execution_count": 114,
   "metadata": {},
   "outputs": [],
   "source": [
    "from sklearn.preprocessing import StandardScaler #escalonar variaveis\n",
    "scaler_x = StandardScaler()\n",
    "x = scaler_x.fit_transform(x)\n",
    "scaler_y = StandardScaler()\n",
    "y = scaler_y.fit_transform(y) "
   ]
  },
  {
   "cell_type": "code",
   "execution_count": 115,
   "metadata": {},
   "outputs": [],
   "source": [
    "import tensorflow.compat.v1 as tf\n",
    "tf.compat.v1.disable_eager_execution()"
   ]
  },
  {
   "cell_type": "code",
   "execution_count": 116,
   "metadata": {},
   "outputs": [],
   "source": [
    "#criar uma lista com as colunas\n",
    "colunas = [tf.feature_column.numeric_column('x', shape=[1])]"
   ]
  },
  {
   "cell_type": "code",
   "execution_count": 117,
   "metadata": {},
   "outputs": [
    {
     "data": {
      "text/plain": [
       "[NumericColumn(key='x', shape=(1,), default_value=None, dtype=tf.float32, normalizer_fn=None)]"
      ]
     },
     "execution_count": 117,
     "metadata": {},
     "output_type": "execute_result"
    }
   ],
   "source": [
    "colunas"
   ]
  },
  {
   "cell_type": "code",
   "execution_count": 118,
   "metadata": {
    "scrolled": true
   },
   "outputs": [
    {
     "name": "stdout",
     "output_type": "stream",
     "text": [
      "INFO:tensorflow:Using default config.\n",
      "WARNING:tensorflow:Using temporary folder as model directory: C:\\Users\\Rafael\\AppData\\Local\\Temp\\tmprujwgv40\n",
      "INFO:tensorflow:Using config: {'_model_dir': 'C:\\\\Users\\\\Rafael\\\\AppData\\\\Local\\\\Temp\\\\tmprujwgv40', '_tf_random_seed': None, '_save_summary_steps': 100, '_save_checkpoints_steps': None, '_save_checkpoints_secs': 600, '_session_config': allow_soft_placement: true\n",
      "graph_options {\n",
      "  rewrite_options {\n",
      "    meta_optimizer_iterations: ONE\n",
      "  }\n",
      "}\n",
      ", '_keep_checkpoint_max': 5, '_keep_checkpoint_every_n_hours': 10000, '_log_step_count_steps': 100, '_train_distribute': None, '_device_fn': None, '_protocol': None, '_eval_distribute': None, '_experimental_distribute': None, '_experimental_max_worker_delay_secs': None, '_session_creation_timeout_secs': 7200, '_checkpoint_save_graph_def': True, '_service': None, '_cluster_spec': ClusterSpec({}), '_task_type': 'worker', '_task_id': 0, '_global_id_in_cluster': 0, '_master': '', '_evaluation_master': '', '_is_chief': True, '_num_ps_replicas': 0, '_num_worker_replicas': 1}\n"
     ]
    }
   ],
   "source": [
    "regressor = tf.estimator.LinearRegressor(feature_columns=colunas)"
   ]
  },
  {
   "cell_type": "code",
   "execution_count": 119,
   "metadata": {},
   "outputs": [],
   "source": [
    "#Dividir a data base para treinamento e teste\n",
    "from sklearn.model_selection import train_test_split\n",
    "x_treinamento, x_teste, y_treinamento, y_teste = train_test_split(x, y, test_size = 0.3) #30% da database sera para o teste"
   ]
  },
  {
   "cell_type": "code",
   "execution_count": 120,
   "metadata": {},
   "outputs": [
    {
     "data": {
      "text/plain": [
       "(21613, 1)"
      ]
     },
     "execution_count": 120,
     "metadata": {},
     "output_type": "execute_result"
    }
   ],
   "source": [
    "x.shape"
   ]
  },
  {
   "cell_type": "code",
   "execution_count": 121,
   "metadata": {},
   "outputs": [
    {
     "data": {
      "text/plain": [
       "(15129, 1)"
      ]
     },
     "execution_count": 121,
     "metadata": {},
     "output_type": "execute_result"
    }
   ],
   "source": [
    "x_treinamento.shape"
   ]
  },
  {
   "cell_type": "code",
   "execution_count": 122,
   "metadata": {},
   "outputs": [
    {
     "data": {
      "text/plain": [
       "(6484, 1)"
      ]
     },
     "execution_count": 122,
     "metadata": {},
     "output_type": "execute_result"
    }
   ],
   "source": [
    "x_teste.shape"
   ]
  },
  {
   "cell_type": "code",
   "execution_count": 123,
   "metadata": {},
   "outputs": [],
   "source": [
    "#Retorna uma funcao que alimenta os dados de x_treinamento (de 32 em 32) para o modelo de grafos do tensor flow. \n",
    "# num_epochs é para ele fazer o acesso dos dados diversas vezes enquanto é treinado e o shuffle serve para sortear os registros para o batch\n",
    "funcao_treinamento = tf.estimator.inputs.numpy_input_fn({'x': x_treinamento}, y_treinamento, batch_size = 32, num_epochs = None, shuffle = True)\n",
    "funcao_teste = tf.estimator.inputs.numpy_input_fn({'x': x_teste}, y_teste, batch_size = 32, num_epochs = 1000, shuffle = False)"
   ]
  },
  {
   "cell_type": "code",
   "execution_count": 124,
   "metadata": {},
   "outputs": [
    {
     "name": "stdout",
     "output_type": "stream",
     "text": [
      "INFO:tensorflow:Calling model_fn.\n",
      "INFO:tensorflow:Done calling model_fn.\n",
      "INFO:tensorflow:Create CheckpointSaverHook.\n"
     ]
    },
    {
     "name": "stderr",
     "output_type": "stream",
     "text": [
      "C:\\Users\\Rafael\\anaconda3\\lib\\site-packages\\tensorflow\\python\\keras\\engine\\base_layer_v1.py:1727: UserWarning: `layer.add_variable` is deprecated and will be removed in a future version. Please use `layer.add_weight` method instead.\n",
      "  warnings.warn('`layer.add_variable` is deprecated and '\n"
     ]
    },
    {
     "name": "stdout",
     "output_type": "stream",
     "text": [
      "INFO:tensorflow:Graph was finalized.\n",
      "INFO:tensorflow:Running local_init_op.\n",
      "INFO:tensorflow:Done running local_init_op.\n",
      "INFO:tensorflow:Calling checkpoint listeners before saving checkpoint 0...\n",
      "INFO:tensorflow:Saving checkpoints for 0 into C:\\Users\\Rafael\\AppData\\Local\\Temp\\tmprujwgv40\\model.ckpt.\n",
      "INFO:tensorflow:Calling checkpoint listeners after saving checkpoint 0...\n",
      "INFO:tensorflow:loss = 51.58664, step = 0\n",
      "INFO:tensorflow:global_step/sec: 1179.63\n",
      "INFO:tensorflow:loss = 13.039552, step = 100 (0.087 sec)\n",
      "INFO:tensorflow:global_step/sec: 1542.57\n",
      "INFO:tensorflow:loss = 24.634327, step = 200 (0.065 sec)\n",
      "INFO:tensorflow:global_step/sec: 1302.16\n",
      "INFO:tensorflow:loss = 8.693053, step = 300 (0.077 sec)\n",
      "INFO:tensorflow:global_step/sec: 1336.91\n",
      "INFO:tensorflow:loss = 9.853032, step = 400 (0.074 sec)\n",
      "INFO:tensorflow:global_step/sec: 1302.17\n",
      "INFO:tensorflow:loss = 13.178756, step = 500 (0.077 sec)\n",
      "INFO:tensorflow:global_step/sec: 1269.21\n",
      "INFO:tensorflow:loss = 8.026464, step = 600 (0.079 sec)\n",
      "INFO:tensorflow:global_step/sec: 1253.35\n",
      "INFO:tensorflow:loss = 14.922904, step = 700 (0.080 sec)\n",
      "INFO:tensorflow:global_step/sec: 1354.96\n",
      "INFO:tensorflow:loss = 6.7767267, step = 800 (0.075 sec)\n",
      "INFO:tensorflow:global_step/sec: 1392.61\n",
      "INFO:tensorflow:loss = 42.03578, step = 900 (0.072 sec)\n",
      "INFO:tensorflow:global_step/sec: 1392.6\n",
      "INFO:tensorflow:loss = 24.586243, step = 1000 (0.072 sec)\n",
      "INFO:tensorflow:global_step/sec: 1302.19\n",
      "INFO:tensorflow:loss = 14.655535, step = 1100 (0.077 sec)\n",
      "INFO:tensorflow:global_step/sec: 1354.96\n",
      "INFO:tensorflow:loss = 6.711199, step = 1200 (0.073 sec)\n",
      "INFO:tensorflow:global_step/sec: 1373.53\n",
      "INFO:tensorflow:loss = 9.478377, step = 1300 (0.073 sec)\n",
      "INFO:tensorflow:global_step/sec: 1237.86\n",
      "INFO:tensorflow:loss = 28.742714, step = 1400 (0.081 sec)\n",
      "INFO:tensorflow:global_step/sec: 1392.63\n",
      "INFO:tensorflow:loss = 3.9452894, step = 1500 (0.072 sec)\n",
      "INFO:tensorflow:global_step/sec: 1392.59\n",
      "INFO:tensorflow:loss = 9.28959, step = 1600 (0.072 sec)\n",
      "INFO:tensorflow:global_step/sec: 1336.91\n",
      "INFO:tensorflow:loss = 11.503264, step = 1700 (0.076 sec)\n",
      "INFO:tensorflow:global_step/sec: 1336.89\n",
      "INFO:tensorflow:loss = 44.78081, step = 1800 (0.075 sec)\n",
      "INFO:tensorflow:global_step/sec: 1373.53\n",
      "INFO:tensorflow:loss = 12.3701935, step = 1900 (0.072 sec)\n",
      "INFO:tensorflow:global_step/sec: 1336.91\n",
      "INFO:tensorflow:loss = 7.827036, step = 2000 (0.075 sec)\n",
      "INFO:tensorflow:global_step/sec: 1392.58\n",
      "INFO:tensorflow:loss = 43.227848, step = 2100 (0.072 sec)\n",
      "INFO:tensorflow:global_step/sec: 1591.55\n",
      "INFO:tensorflow:loss = 16.403814, step = 2200 (0.063 sec)\n",
      "INFO:tensorflow:global_step/sec: 1354.96\n",
      "INFO:tensorflow:loss = 28.898289, step = 2300 (0.074 sec)\n",
      "INFO:tensorflow:global_step/sec: 1542.59\n",
      "INFO:tensorflow:loss = 9.726805, step = 2400 (0.065 sec)\n",
      "INFO:tensorflow:global_step/sec: 1432.38\n",
      "INFO:tensorflow:loss = 19.061476, step = 2500 (0.070 sec)\n",
      "INFO:tensorflow:global_step/sec: 1354.97\n",
      "INFO:tensorflow:loss = 11.290561, step = 2600 (0.074 sec)\n",
      "INFO:tensorflow:global_step/sec: 1392.6\n",
      "INFO:tensorflow:loss = 24.713783, step = 2700 (0.072 sec)\n",
      "INFO:tensorflow:global_step/sec: 1318.87\n",
      "INFO:tensorflow:loss = 16.267302, step = 2800 (0.076 sec)\n",
      "INFO:tensorflow:global_step/sec: 1302.61\n",
      "INFO:tensorflow:loss = 13.368307, step = 2900 (0.077 sec)\n",
      "INFO:tensorflow:global_step/sec: 1354.46\n",
      "INFO:tensorflow:loss = 23.693321, step = 3000 (0.075 sec)\n",
      "INFO:tensorflow:global_step/sec: 1319.79\n",
      "INFO:tensorflow:loss = 11.034746, step = 3100 (0.075 sec)\n",
      "INFO:tensorflow:global_step/sec: 1336.89\n",
      "INFO:tensorflow:loss = 10.019343, step = 3200 (0.075 sec)\n",
      "INFO:tensorflow:global_step/sec: 1285.48\n",
      "INFO:tensorflow:loss = 4.1429577, step = 3300 (0.079 sec)\n",
      "INFO:tensorflow:global_step/sec: 1285.04\n",
      "INFO:tensorflow:loss = 7.46669, step = 3400 (0.077 sec)\n",
      "INFO:tensorflow:global_step/sec: 1319.77\n",
      "INFO:tensorflow:loss = 170.5497, step = 3500 (0.077 sec)\n",
      "INFO:tensorflow:global_step/sec: 1302.17\n",
      "INFO:tensorflow:loss = 13.967049, step = 3600 (0.076 sec)\n",
      "INFO:tensorflow:global_step/sec: 1336.37\n",
      "INFO:tensorflow:loss = 42.466194, step = 3700 (0.076 sec)\n",
      "INFO:tensorflow:global_step/sec: 1319.75\n",
      "INFO:tensorflow:loss = 8.272536, step = 3800 (0.075 sec)\n",
      "INFO:tensorflow:global_step/sec: 1319.38\n",
      "INFO:tensorflow:loss = 19.64153, step = 3900 (0.076 sec)\n",
      "INFO:tensorflow:global_step/sec: 1336.86\n",
      "INFO:tensorflow:loss = 27.712692, step = 4000 (0.075 sec)\n",
      "INFO:tensorflow:global_step/sec: 1354.99\n",
      "INFO:tensorflow:loss = 5.6009254, step = 4100 (0.074 sec)\n",
      "INFO:tensorflow:global_step/sec: 1319.32\n",
      "INFO:tensorflow:loss = 5.5086403, step = 4200 (0.076 sec)\n",
      "INFO:tensorflow:global_step/sec: 1354.97\n",
      "INFO:tensorflow:loss = 14.173046, step = 4300 (0.074 sec)\n",
      "INFO:tensorflow:global_step/sec: 1336.9\n",
      "INFO:tensorflow:loss = 19.264393, step = 4400 (0.075 sec)\n",
      "INFO:tensorflow:global_step/sec: 1336.89\n",
      "INFO:tensorflow:loss = 8.298262, step = 4500 (0.075 sec)\n",
      "INFO:tensorflow:global_step/sec: 1285.06\n",
      "INFO:tensorflow:loss = 9.10402, step = 4600 (0.078 sec)\n",
      "INFO:tensorflow:global_step/sec: 1412.73\n",
      "INFO:tensorflow:loss = 16.640444, step = 4700 (0.071 sec)\n",
      "INFO:tensorflow:global_step/sec: 1373.53\n",
      "INFO:tensorflow:loss = 17.523531, step = 4800 (0.073 sec)\n",
      "INFO:tensorflow:global_step/sec: 1319.31\n",
      "INFO:tensorflow:loss = 11.587669, step = 4900 (0.076 sec)\n",
      "INFO:tensorflow:global_step/sec: 1269.21\n",
      "INFO:tensorflow:loss = 12.529739, step = 5000 (0.080 sec)\n",
      "INFO:tensorflow:global_step/sec: 1336.83\n",
      "INFO:tensorflow:loss = 13.089605, step = 5100 (0.075 sec)\n",
      "INFO:tensorflow:global_step/sec: 1392.67\n",
      "INFO:tensorflow:loss = 18.557104, step = 5200 (0.071 sec)\n",
      "INFO:tensorflow:global_step/sec: 1453.15\n",
      "INFO:tensorflow:loss = 8.649248, step = 5300 (0.070 sec)\n",
      "INFO:tensorflow:global_step/sec: 1496.19\n",
      "INFO:tensorflow:loss = 16.538084, step = 5400 (0.066 sec)\n",
      "INFO:tensorflow:global_step/sec: 1373.52\n",
      "INFO:tensorflow:loss = 17.054462, step = 5500 (0.074 sec)\n",
      "INFO:tensorflow:global_step/sec: 1354.97\n",
      "INFO:tensorflow:loss = 8.510627, step = 5600 (0.073 sec)\n",
      "INFO:tensorflow:global_step/sec: 1373.52\n",
      "INFO:tensorflow:loss = 10.292845, step = 5700 (0.074 sec)\n",
      "INFO:tensorflow:global_step/sec: 1453.15\n",
      "INFO:tensorflow:loss = 7.9712634, step = 5800 (0.069 sec)\n",
      "INFO:tensorflow:global_step/sec: 1253.34\n",
      "INFO:tensorflow:loss = 35.73083, step = 5900 (0.080 sec)\n",
      "INFO:tensorflow:global_step/sec: 1222.77\n",
      "INFO:tensorflow:loss = 11.04608, step = 6000 (0.082 sec)\n",
      "INFO:tensorflow:global_step/sec: 1285.09\n",
      "INFO:tensorflow:loss = 7.2905655, step = 6100 (0.077 sec)\n",
      "INFO:tensorflow:global_step/sec: 1374\n",
      "INFO:tensorflow:loss = 8.531879, step = 6200 (0.073 sec)\n",
      "INFO:tensorflow:global_step/sec: 1392.59\n",
      "INFO:tensorflow:loss = 9.708605, step = 6300 (0.072 sec)\n",
      "INFO:tensorflow:global_step/sec: 1336.9\n",
      "INFO:tensorflow:loss = 16.215698, step = 6400 (0.075 sec)\n",
      "INFO:tensorflow:global_step/sec: 1373.5\n",
      "INFO:tensorflow:loss = 13.295763, step = 6500 (0.074 sec)\n",
      "INFO:tensorflow:global_step/sec: 1302.21\n",
      "INFO:tensorflow:loss = 12.069947, step = 6600 (0.076 sec)\n",
      "INFO:tensorflow:global_step/sec: 1354.96\n",
      "INFO:tensorflow:loss = 10.4727745, step = 6700 (0.075 sec)\n",
      "INFO:tensorflow:global_step/sec: 1302.18\n",
      "INFO:tensorflow:loss = 10.605186, step = 6800 (0.077 sec)\n",
      "INFO:tensorflow:global_step/sec: 1285.48\n",
      "INFO:tensorflow:loss = 7.612342, step = 6900 (0.078 sec)\n",
      "INFO:tensorflow:global_step/sec: 1253.31\n",
      "INFO:tensorflow:loss = 9.851603, step = 7000 (0.079 sec)\n",
      "INFO:tensorflow:global_step/sec: 1354.99\n",
      "INFO:tensorflow:loss = 11.682627, step = 7100 (0.074 sec)\n",
      "INFO:tensorflow:global_step/sec: 1373.06\n",
      "INFO:tensorflow:loss = 12.034523, step = 7200 (0.073 sec)\n",
      "INFO:tensorflow:global_step/sec: 1337.35\n",
      "INFO:tensorflow:loss = 10.430067, step = 7300 (0.075 sec)\n",
      "INFO:tensorflow:global_step/sec: 1285.49\n",
      "INFO:tensorflow:loss = 15.541313, step = 7400 (0.078 sec)\n",
      "INFO:tensorflow:global_step/sec: 1412.21\n",
      "INFO:tensorflow:loss = 13.972905, step = 7500 (0.071 sec)\n",
      "INFO:tensorflow:global_step/sec: 1319.3\n",
      "INFO:tensorflow:loss = 8.698968, step = 7600 (0.076 sec)\n",
      "INFO:tensorflow:global_step/sec: 1302.19\n",
      "INFO:tensorflow:loss = 24.258747, step = 7700 (0.077 sec)\n",
      "INFO:tensorflow:global_step/sec: 1285.46\n",
      "INFO:tensorflow:loss = 12.98102, step = 7800 (0.079 sec)\n",
      "INFO:tensorflow:global_step/sec: 1319.32\n",
      "INFO:tensorflow:loss = 12.838385, step = 7900 (0.075 sec)\n",
      "INFO:tensorflow:global_step/sec: 1302.19\n"
     ]
    },
    {
     "name": "stdout",
     "output_type": "stream",
     "text": [
      "INFO:tensorflow:loss = 14.832727, step = 8000 (0.077 sec)\n",
      "INFO:tensorflow:global_step/sec: 1354.96\n",
      "INFO:tensorflow:loss = 8.898828, step = 8100 (0.075 sec)\n",
      "INFO:tensorflow:global_step/sec: 1302.17\n",
      "INFO:tensorflow:loss = 12.698526, step = 8200 (0.077 sec)\n",
      "INFO:tensorflow:global_step/sec: 1319.31\n",
      "INFO:tensorflow:loss = 8.991079, step = 8300 (0.076 sec)\n",
      "INFO:tensorflow:global_step/sec: 1285.48\n",
      "INFO:tensorflow:loss = 4.984295, step = 8400 (0.077 sec)\n",
      "INFO:tensorflow:global_step/sec: 1474.53\n",
      "INFO:tensorflow:loss = 9.23921, step = 8500 (0.069 sec)\n",
      "INFO:tensorflow:global_step/sec: 1373.51\n",
      "INFO:tensorflow:loss = 9.507482, step = 8600 (0.073 sec)\n",
      "INFO:tensorflow:global_step/sec: 1373.07\n",
      "INFO:tensorflow:loss = 10.996515, step = 8700 (0.072 sec)\n",
      "INFO:tensorflow:global_step/sec: 1302.14\n",
      "INFO:tensorflow:loss = 28.829803, step = 8800 (0.077 sec)\n",
      "INFO:tensorflow:global_step/sec: 1238.3\n",
      "INFO:tensorflow:loss = 65.84107, step = 8900 (0.081 sec)\n",
      "INFO:tensorflow:global_step/sec: 1253.31\n",
      "INFO:tensorflow:loss = 13.597861, step = 9000 (0.081 sec)\n",
      "INFO:tensorflow:global_step/sec: 1222.43\n",
      "INFO:tensorflow:loss = 23.500996, step = 9100 (0.081 sec)\n",
      "INFO:tensorflow:global_step/sec: 1285.88\n",
      "INFO:tensorflow:loss = 17.818613, step = 9200 (0.079 sec)\n",
      "INFO:tensorflow:global_step/sec: 1302.18\n",
      "INFO:tensorflow:loss = 9.124813, step = 9300 (0.076 sec)\n",
      "INFO:tensorflow:global_step/sec: 1319.33\n",
      "INFO:tensorflow:loss = 25.761911, step = 9400 (0.076 sec)\n",
      "INFO:tensorflow:global_step/sec: 1319.02\n",
      "INFO:tensorflow:loss = 7.1343966, step = 9500 (0.077 sec)\n",
      "INFO:tensorflow:global_step/sec: 1208.27\n",
      "INFO:tensorflow:loss = 10.85865, step = 9600 (0.083 sec)\n",
      "INFO:tensorflow:global_step/sec: 1222.78\n",
      "INFO:tensorflow:loss = 17.415333, step = 9700 (0.081 sec)\n",
      "INFO:tensorflow:global_step/sec: 1285.46\n",
      "INFO:tensorflow:loss = 12.374483, step = 9800 (0.079 sec)\n",
      "INFO:tensorflow:global_step/sec: 1301.77\n",
      "INFO:tensorflow:loss = 11.129965, step = 9900 (0.077 sec)\n",
      "INFO:tensorflow:Calling checkpoint listeners before saving checkpoint 10000...\n",
      "INFO:tensorflow:Saving checkpoints for 10000 into C:\\Users\\Rafael\\AppData\\Local\\Temp\\tmprujwgv40\\model.ckpt.\n",
      "INFO:tensorflow:Calling checkpoint listeners after saving checkpoint 10000...\n",
      "INFO:tensorflow:Loss for final step: 8.333897.\n"
     ]
    },
    {
     "data": {
      "text/plain": [
       "<tensorflow_estimator.python.estimator.canned.linear.LinearRegressor at 0x27bb97ac910>"
      ]
     },
     "execution_count": 124,
     "metadata": {},
     "output_type": "execute_result"
    }
   ],
   "source": [
    "#Treinamento do regressor linear\n",
    "#Declarar a funcao de treinamento, o step é o numero de vezes que ele irá executar para cada época. 1 época = quando se percorre todos os registros\n",
    "regressor.train(input_fn = funcao_treinamento, steps = 10000)"
   ]
  },
  {
   "cell_type": "code",
   "execution_count": 125,
   "metadata": {},
   "outputs": [
    {
     "name": "stdout",
     "output_type": "stream",
     "text": [
      "INFO:tensorflow:Calling model_fn.\n",
      "INFO:tensorflow:Done calling model_fn.\n",
      "INFO:tensorflow:Starting evaluation at 2021-04-20T09:57:01Z\n",
      "INFO:tensorflow:Graph was finalized.\n",
      "INFO:tensorflow:Restoring parameters from C:\\Users\\Rafael\\AppData\\Local\\Temp\\tmprujwgv40\\model.ckpt-10000\n",
      "INFO:tensorflow:Running local_init_op.\n",
      "INFO:tensorflow:Done running local_init_op.\n",
      "INFO:tensorflow:Evaluation [1000/10000]\n",
      "INFO:tensorflow:Evaluation [2000/10000]\n",
      "INFO:tensorflow:Evaluation [3000/10000]\n",
      "INFO:tensorflow:Evaluation [4000/10000]\n",
      "INFO:tensorflow:Evaluation [5000/10000]\n",
      "INFO:tensorflow:Evaluation [6000/10000]\n",
      "INFO:tensorflow:Evaluation [7000/10000]\n",
      "INFO:tensorflow:Evaluation [8000/10000]\n",
      "INFO:tensorflow:Evaluation [9000/10000]\n",
      "INFO:tensorflow:Evaluation [10000/10000]\n",
      "INFO:tensorflow:Inference Time : 6.37178s\n",
      "INFO:tensorflow:Finished evaluation at 2021-04-20-09:57:07\n",
      "INFO:tensorflow:Saving dict for global step 10000: average_loss = 0.5011515, global_step = 10000, label/mean = -0.0048268093, loss = 16.036848, prediction/mean = -0.00817172\n",
      "INFO:tensorflow:Saving 'checkpoint_path' summary for global step 10000: C:\\Users\\Rafael\\AppData\\Local\\Temp\\tmprujwgv40\\model.ckpt-10000\n"
     ]
    }
   ],
   "source": [
    "#É possível visualizar as métricas do treinamento\n",
    "metricas_treinamento = regressor.evaluate(input_fn = funcao_treinamento, steps = 10000)"
   ]
  },
  {
   "cell_type": "code",
   "execution_count": 126,
   "metadata": {},
   "outputs": [
    {
     "name": "stdout",
     "output_type": "stream",
     "text": [
      "INFO:tensorflow:Calling model_fn.\n",
      "INFO:tensorflow:Done calling model_fn.\n",
      "INFO:tensorflow:Starting evaluation at 2021-04-20T09:57:08Z\n",
      "INFO:tensorflow:Graph was finalized.\n",
      "INFO:tensorflow:Restoring parameters from C:\\Users\\Rafael\\AppData\\Local\\Temp\\tmprujwgv40\\model.ckpt-10000\n",
      "INFO:tensorflow:Running local_init_op.\n",
      "INFO:tensorflow:Done running local_init_op.\n",
      "INFO:tensorflow:Evaluation [1000/10000]\n",
      "INFO:tensorflow:Evaluation [2000/10000]\n",
      "INFO:tensorflow:Evaluation [3000/10000]\n",
      "INFO:tensorflow:Evaluation [4000/10000]\n",
      "INFO:tensorflow:Evaluation [5000/10000]\n",
      "INFO:tensorflow:Evaluation [6000/10000]\n",
      "INFO:tensorflow:Evaluation [7000/10000]\n",
      "INFO:tensorflow:Evaluation [8000/10000]\n",
      "INFO:tensorflow:Evaluation [9000/10000]\n",
      "INFO:tensorflow:Evaluation [10000/10000]\n",
      "INFO:tensorflow:Inference Time : 6.18225s\n",
      "INFO:tensorflow:Finished evaluation at 2021-04-20-09:57:14\n",
      "INFO:tensorflow:Saving dict for global step 10000: average_loss = 0.5213227, global_step = 10000, label/mean = 0.011280027, loss = 16.682327, prediction/mean = 0.00069273676\n",
      "INFO:tensorflow:Saving 'checkpoint_path' summary for global step 10000: C:\\Users\\Rafael\\AppData\\Local\\Temp\\tmprujwgv40\\model.ckpt-10000\n"
     ]
    }
   ],
   "source": [
    "#É também possível visualizar as métricas do teste, que é o que realmente importa\n",
    "metricas_teste = regressor.evaluate(input_fn=funcao_teste, steps = 10000)"
   ]
  },
  {
   "cell_type": "markdown",
   "metadata": {},
   "source": [
    "**Agora vamos comparar ambas as métricas e checar se estão condizentes**"
   ]
  },
  {
   "cell_type": "code",
   "execution_count": 127,
   "metadata": {
    "scrolled": true
   },
   "outputs": [
    {
     "data": {
      "text/plain": [
       "{'average_loss': 0.5011515,\n",
       " 'label/mean': -0.0048268093,\n",
       " 'loss': 16.036848,\n",
       " 'prediction/mean': -0.00817172,\n",
       " 'global_step': 10000}"
      ]
     },
     "execution_count": 127,
     "metadata": {},
     "output_type": "execute_result"
    }
   ],
   "source": [
    "metricas_treinamento"
   ]
  },
  {
   "cell_type": "code",
   "execution_count": 128,
   "metadata": {},
   "outputs": [
    {
     "data": {
      "text/plain": [
       "{'average_loss': 0.5213227,\n",
       " 'label/mean': 0.011280027,\n",
       " 'loss': 16.682327,\n",
       " 'prediction/mean': 0.00069273676,\n",
       " 'global_step': 10000}"
      ]
     },
     "execution_count": 128,
     "metadata": {},
     "output_type": "execute_result"
    }
   ],
   "source": [
    "metricas_teste"
   ]
  },
  {
   "cell_type": "code",
   "execution_count": 129,
   "metadata": {},
   "outputs": [],
   "source": [
    "#Agora vamos fazer previsões com outros valores\n",
    "import numpy as np\n",
    "novas_casas = np.array([[800],[900],[1000]])"
   ]
  },
  {
   "cell_type": "code",
   "execution_count": 130,
   "metadata": {},
   "outputs": [
    {
     "data": {
      "text/plain": [
       "array([[ 800],\n",
       "       [ 900],\n",
       "       [1000]])"
      ]
     },
     "execution_count": 130,
     "metadata": {},
     "output_type": "execute_result"
    }
   ],
   "source": [
    "novas_casas"
   ]
  },
  {
   "cell_type": "code",
   "execution_count": 131,
   "metadata": {},
   "outputs": [
    {
     "data": {
      "text/plain": [
       "array([[-1.39358923],\n",
       "       [-1.28470655],\n",
       "       [-1.17582386]])"
      ]
     },
     "execution_count": 131,
     "metadata": {},
     "output_type": "execute_result"
    }
   ],
   "source": [
    "novas_casas = scaler_x.transform(novas_casas)\n",
    "novas_casas"
   ]
  },
  {
   "cell_type": "code",
   "execution_count": 132,
   "metadata": {},
   "outputs": [],
   "source": [
    "funcao_previsao = tf.estimator.inputs.numpy_input_fn({'x': novas_casas}, shuffle = False)"
   ]
  },
  {
   "cell_type": "code",
   "execution_count": 133,
   "metadata": {},
   "outputs": [],
   "source": [
    "previsoes = regressor.predict(input_fn = funcao_previsao)"
   ]
  },
  {
   "cell_type": "code",
   "execution_count": 134,
   "metadata": {},
   "outputs": [
    {
     "data": {
      "text/plain": [
       "<generator object Estimator.predict at 0x0000027BBAE17A50>"
      ]
     },
     "execution_count": 134,
     "metadata": {},
     "output_type": "execute_result"
    }
   ],
   "source": [
    "previsoes"
   ]
  },
  {
   "cell_type": "code",
   "execution_count": 135,
   "metadata": {},
   "outputs": [
    {
     "name": "stdout",
     "output_type": "stream",
     "text": [
      "INFO:tensorflow:Calling model_fn.\n",
      "INFO:tensorflow:Done calling model_fn.\n",
      "INFO:tensorflow:Graph was finalized.\n",
      "INFO:tensorflow:Restoring parameters from C:\\Users\\Rafael\\AppData\\Local\\Temp\\tmprujwgv40\\model.ckpt-10000\n",
      "INFO:tensorflow:Running local_init_op.\n",
      "INFO:tensorflow:Done running local_init_op.\n"
     ]
    },
    {
     "name": "stderr",
     "output_type": "stream",
     "text": [
      "C:\\Users\\Rafael\\anaconda3\\lib\\site-packages\\tensorflow\\python\\keras\\engine\\base_layer_v1.py:1727: UserWarning: `layer.add_variable` is deprecated and will be removed in a future version. Please use `layer.add_weight` method instead.\n",
      "  warnings.warn('`layer.add_variable` is deprecated and '\n"
     ]
    },
    {
     "data": {
      "text/plain": [
       "[{'predictions': array([-0.98342985], dtype=float32)},\n",
       " {'predictions': array([-0.9070232], dtype=float32)},\n",
       " {'predictions': array([-0.8306165], dtype=float32)}]"
      ]
     },
     "execution_count": 135,
     "metadata": {},
     "output_type": "execute_result"
    }
   ],
   "source": [
    "list(previsoes)"
   ]
  },
  {
   "cell_type": "code",
   "execution_count": 136,
   "metadata": {},
   "outputs": [
    {
     "name": "stdout",
     "output_type": "stream",
     "text": [
      "INFO:tensorflow:Calling model_fn.\n",
      "INFO:tensorflow:Done calling model_fn.\n",
      "INFO:tensorflow:Graph was finalized.\n",
      "INFO:tensorflow:Restoring parameters from C:\\Users\\Rafael\\AppData\\Local\\Temp\\tmprujwgv40\\model.ckpt-10000\n",
      "INFO:tensorflow:Running local_init_op.\n",
      "INFO:tensorflow:Done running local_init_op.\n",
      "[179052.64]\n",
      "[207102.95]\n",
      "[235153.3]\n"
     ]
    }
   ],
   "source": [
    "for p in regressor.predict(input_fn = funcao_previsao):\n",
    "    #print(p['predictions'])\n",
    "    print(scaler_y.inverse_transform(p['predictions']))"
   ]
  },
  {
   "cell_type": "code",
   "execution_count": null,
   "metadata": {},
   "outputs": [],
   "source": []
  }
 ],
 "metadata": {
  "kernelspec": {
   "display_name": "Python 3",
   "language": "python",
   "name": "python3"
  },
  "language_info": {
   "codemirror_mode": {
    "name": "ipython",
    "version": 3
   },
   "file_extension": ".py",
   "mimetype": "text/x-python",
   "name": "python",
   "nbconvert_exporter": "python",
   "pygments_lexer": "ipython3",
   "version": "3.8.5"
  }
 },
 "nbformat": 4,
 "nbformat_minor": 4
}
